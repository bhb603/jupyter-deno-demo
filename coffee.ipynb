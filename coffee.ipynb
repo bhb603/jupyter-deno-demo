{
 "cells": [
  {
   "cell_type": "markdown",
   "id": "961ce2d7-162f-4f4e-b858-253ddcc51957",
   "metadata": {},
   "source": [
    "Every morning I brew a carafe of coffee which requires 69g of coffee beans.\n",
    "\n",
    "How much does each carafe cost?"
   ]
  },
  {
   "cell_type": "code",
   "execution_count": 1,
   "id": "e974b938-5dab-470d-9528-2e2ff136b912",
   "metadata": {},
   "outputs": [],
   "source": [
    "import pl from \"npm:nodejs-polars\";"
   ]
  },
  {
   "cell_type": "code",
   "execution_count": 2,
   "id": "a933e1a4-aa39-4c7f-b9bd-bc2a604a6fa7",
   "metadata": {},
   "outputs": [
    {
     "data": {
      "text/plain": [
       "{\n",
       "  coffee: DataType(String),\n",
       "  size_oz: DataType(Int64),\n",
       "  price: DataType(Float64),\n",
       "  link: DataType(String)\n",
       "}"
      ]
     },
     "execution_count": 2,
     "metadata": {},
     "output_type": "execute_result"
    }
   ],
   "source": [
    "const df = pl.readCSV('./coffee.csv');\n",
    "df.schema"
   ]
  },
  {
   "cell_type": "code",
   "execution_count": 3,
   "id": "08b694e6-a1e7-4b46-8c46-b0358922d598",
   "metadata": {},
   "outputs": [
    {
     "data": {
      "application/vnd.dataresource+json": {
       "bytes": null,
       "data": [
        {
         "carafes_per_package": 12.3,
         "coffee": "Dunkin Original Ground",
         "price": 18.92,
         "price_per_carafe": 1.53,
         "price_per_month": 46.05,
         "size_oz": 30
        },
        {
         "carafes_per_package": 13.1,
         "coffee": "Happy Mug Artists Blend 2lb",
         "price": 23,
         "price_per_carafe": 1.75,
         "price_per_month": 52.48,
         "size_oz": 32
        },
        {
         "carafes_per_package": 32.9,
         "coffee": "Brooklyn Roasting Columbia 5lb",
         "price": 80,
         "price_per_carafe": 2.43,
         "price_per_month": 73.02,
         "size_oz": 80
        },
        {
         "carafes_per_package": 32.9,
         "coffee": "Stumptown Holler Mountain 5lb",
         "price": 95,
         "price_per_carafe": 2.89,
         "price_per_month": 86.71,
         "size_oz": 80
        },
        {
         "carafes_per_package": 32.9,
         "coffee": "Partners Brooklyn 5lb",
         "price": 109.5,
         "price_per_carafe": 3.33,
         "price_per_month": 99.94,
         "size_oz": 80
        },
        {
         "carafes_per_package": 4.9,
         "coffee": "Stumptown Holler Mountain 12oz",
         "price": 17,
         "price_per_carafe": 3.45,
         "price_per_month": 103.44,
         "size_oz": 12
        },
        {
         "carafes_per_package": 13.1,
         "coffee": "Partners Brooklyn 2lb",
         "price": 46,
         "price_per_carafe": 3.5,
         "price_per_month": 104.96,
         "size_oz": 32
        }
       ],
       "description": null,
       "dialect": null,
       "encoding": null,
       "format": null,
       "hash": null,
       "homepage": null,
       "licenses": null,
       "mediatype": null,
       "path": null,
       "schema": {
        "fields": [
         {
          "constraints": null,
          "description": null,
          "example": null,
          "format": null,
          "name": "coffee",
          "rdfType": null,
          "title": null,
          "type": "string"
         },
         {
          "constraints": null,
          "description": null,
          "example": null,
          "format": null,
          "name": "price",
          "rdfType": null,
          "title": null,
          "type": "number"
         },
         {
          "constraints": null,
          "description": null,
          "example": null,
          "format": null,
          "name": "size_oz",
          "rdfType": null,
          "title": null,
          "type": "integer"
         },
         {
          "constraints": null,
          "description": null,
          "example": null,
          "format": null,
          "name": "carafes_per_package",
          "rdfType": null,
          "title": null,
          "type": "number"
         },
         {
          "constraints": null,
          "description": null,
          "example": null,
          "format": null,
          "name": "price_per_carafe",
          "rdfType": null,
          "title": null,
          "type": "number"
         },
         {
          "constraints": null,
          "description": null,
          "example": null,
          "format": null,
          "name": "price_per_month",
          "rdfType": null,
          "title": null,
          "type": "number"
         }
        ],
        "foreignKeys": null,
        "missingValues": null,
        "primaryKey": null
       },
       "sources": null,
       "title": null
      },
      "text/html": [
       "<table><thead><tr><th>coffee</th><th>price</th><th>size_oz</th><th>carafes_per_package</th><th>price_per_carafe</th><th>price_per_month</th></tr></thead><tbody><tr><td>Dunkin Original Ground</td><td>18.92</td><td>30</td><td>12.3</td><td>1.53</td><td>46.05</td></tr><tr><td>Happy Mug Artists Blend 2lb</td><td>23</td><td>32</td><td>13.1</td><td>1.75</td><td>52.48</td></tr><tr><td>Brooklyn Roasting Columbia 5lb</td><td>80</td><td>80</td><td>32.9</td><td>2.43</td><td>73.02</td></tr><tr><td>Stumptown Holler Mountain 5lb</td><td>95</td><td>80</td><td>32.9</td><td>2.89</td><td>86.71</td></tr><tr><td>Partners Brooklyn 5lb</td><td>109.5</td><td>80</td><td>32.9</td><td>3.33</td><td>99.94</td></tr><tr><td>Stumptown Holler Mountain 12oz</td><td>17</td><td>12</td><td>4.9</td><td>3.45</td><td>103.44</td></tr><tr><td>Partners Brooklyn 2lb</td><td>46</td><td>32</td><td>13.1</td><td>3.5</td><td>104.96</td></tr></tbody></table>"
      ]
     },
     "execution_count": 3,
     "metadata": {},
     "output_type": "execute_result"
    }
   ],
   "source": [
    "const gramsPerOz = 28.35;\n",
    "const gramsPerCarafe = 69;\n",
    "const carafesPerMonth = 30;\n",
    "\n",
    "const calculatedDf = df.select(\n",
    "    'coffee',\n",
    "    'price',\n",
    "    'size_oz',\n",
    "    pl.col('size_oz').mul(gramsPerOz).div(gramsPerCarafe).round(1).alias('carafes_per_package'),\n",
    "    pl.col('price').div(pl.col('size_oz')).div(gramsPerOz).mul(gramsPerCarafe).round(2).alias('price_per_carafe'),\n",
    "    pl.col('price').div(pl.col('size_oz')).div(gramsPerOz).mul(gramsPerCarafe).mul(carafesPerMonth).round(2).alias('price_per_month'),\n",
    ").sort('price_per_carafe');\n",
    "\n",
    "\n",
    "calculatedDf;"
   ]
  }
 ],
 "metadata": {
  "kernelspec": {
   "display_name": "Deno",
   "language": "typescript",
   "name": "deno"
  },
  "language_info": {
   "codemirror_mode": "typescript",
   "file_extension": ".ts",
   "mimetype": "text/x.typescript",
   "name": "typescript",
   "nbconvert_exporter": "script",
   "pygments_lexer": "typescript",
   "version": "5.6.2"
  }
 },
 "nbformat": 4,
 "nbformat_minor": 5
}
