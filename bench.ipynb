{
 "cells": [
  {
   "cell_type": "markdown",
   "id": "deaf28d2-ae6f-40fe-9f42-b42916312f59",
   "metadata": {},
   "source": [
    "## Benchmark\n",
    "\n",
    "The `bench.tsv` data contains results from benchmarking a web service.\n",
    "Each row represents a request, and contains the following fields:\n",
    "- latency (ms)\n",
    "- httpStatusCode\n",
    "- size (bytes)\n"
   ]
  },
  {
   "cell_type": "code",
   "execution_count": 1,
   "id": "07d2fb03-47c9-45b7-816e-9adfccebac74",
   "metadata": {},
   "outputs": [],
   "source": [
    "import pl from \"npm:nodejs-polars\";\n",
    "import * as Plot from \"npm:@observablehq/plot\";\n",
    "import { DOMParser } from \"npm:linkedom\";"
   ]
  },
  {
   "cell_type": "code",
   "execution_count": 2,
   "id": "6aee78e0-6a2f-4097-9e09-a2728f249c4e",
   "metadata": {},
   "outputs": [],
   "source": [
    "const document: any = new DOMParser().parseFromString(\n",
    "  `<!DOCTYPE html><html lang=\"en\"></html>`,\n",
    "  \"text/html\",\n",
    ");"
   ]
  },
  {
   "cell_type": "code",
   "execution_count": 3,
   "id": "57934cb1-af0f-48bf-82b7-3d3dd8b63391",
   "metadata": {},
   "outputs": [
    {
     "data": {
      "application/vnd.dataresource+json": {
       "bytes": null,
       "data": [
        {
         "httpStatusCode": 200,
         "latency": 3701,
         "size": 139310,
         "worker_id": 2
        },
        {
         "httpStatusCode": 200,
         "latency": 1919,
         "size": 139310,
         "worker_id": 2
        },
        {
         "httpStatusCode": 200,
         "latency": 6841,
         "size": 139310,
         "worker_id": 3
        },
        {
         "httpStatusCode": 200,
         "latency": 6841,
         "size": 139310,
         "worker_id": 8
        },
        {
         "httpStatusCode": 200,
         "latency": 7108,
         "size": 139310,
         "worker_id": 1
        }
       ],
       "description": null,
       "dialect": null,
       "encoding": null,
       "format": null,
       "hash": null,
       "homepage": null,
       "licenses": null,
       "mediatype": null,
       "path": null,
       "schema": {
        "fields": [
         {
          "constraints": null,
          "description": null,
          "example": null,
          "format": null,
          "name": "worker_id",
          "rdfType": null,
          "title": null,
          "type": "integer"
         },
         {
          "constraints": null,
          "description": null,
          "example": null,
          "format": null,
          "name": "latency",
          "rdfType": null,
          "title": null,
          "type": "integer"
         },
         {
          "constraints": null,
          "description": null,
          "example": null,
          "format": null,
          "name": "httpStatusCode",
          "rdfType": null,
          "title": null,
          "type": "integer"
         },
         {
          "constraints": null,
          "description": null,
          "example": null,
          "format": null,
          "name": "size",
          "rdfType": null,
          "title": null,
          "type": "integer"
         }
        ],
        "foreignKeys": null,
        "missingValues": null,
        "primaryKey": null
       },
       "sources": null,
       "title": null
      },
      "text/html": [
       "<table><thead><tr><th>worker_id</th><th>latency</th><th>httpStatusCode</th><th>size</th></tr></thead><tbody><tr><td>2</td><td>3701</td><td>200</td><td>139310</td></tr><tr><td>2</td><td>1919</td><td>200</td><td>139310</td></tr><tr><td>3</td><td>6841</td><td>200</td><td>139310</td></tr><tr><td>8</td><td>6841</td><td>200</td><td>139310</td></tr><tr><td>1</td><td>7108</td><td>200</td><td>139310</td></tr></tbody></table>"
      ]
     },
     "execution_count": 3,
     "metadata": {},
     "output_type": "execute_result"
    }
   ],
   "source": [
    "const df = pl.readCSV('./bench.tsv', { sep: \"\\t\" });\n",
    "df.head()"
   ]
  },
  {
   "cell_type": "code",
   "execution_count": 4,
   "id": "7bc0ab22-0813-45ae-be73-38ffc0043d4e",
   "metadata": {},
   "outputs": [
    {
     "data": {
      "application/vnd.dataresource+json": {
       "bytes": null,
       "data": [
        {
         "percentile": 1,
         "unit": "ms",
         "value": 7794
        },
        {
         "percentile": 0.99,
         "unit": "ms",
         "value": 7388
        },
        {
         "percentile": 0.95,
         "unit": "ms",
         "value": 7189
        },
        {
         "percentile": 0.9,
         "unit": "ms",
         "value": 2406
        },
        {
         "percentile": 0.75,
         "unit": "ms",
         "value": 1925
        },
        {
         "percentile": 0.5,
         "unit": "ms",
         "value": 1741
        },
        {
         "percentile": 0,
         "unit": "ms",
         "value": 1399
        }
       ],
       "description": null,
       "dialect": null,
       "encoding": null,
       "format": null,
       "hash": null,
       "homepage": null,
       "licenses": null,
       "mediatype": null,
       "path": null,
       "schema": {
        "fields": [
         {
          "constraints": null,
          "description": null,
          "example": null,
          "format": null,
          "name": "percentile",
          "rdfType": null,
          "title": null,
          "type": "number"
         },
         {
          "constraints": null,
          "description": null,
          "example": null,
          "format": null,
          "name": "value",
          "rdfType": null,
          "title": null,
          "type": "number"
         },
         {
          "constraints": null,
          "description": null,
          "example": null,
          "format": null,
          "name": "unit",
          "rdfType": null,
          "title": null,
          "type": "string"
         }
        ],
        "foreignKeys": null,
        "missingValues": null,
        "primaryKey": null
       },
       "sources": null,
       "title": null
      },
      "text/html": [
       "<table><thead><tr><th>percentile</th><th>value</th><th>unit</th></tr></thead><tbody><tr><td>1</td><td>7794</td><td>ms</td></tr><tr><td>0.99</td><td>7388</td><td>ms</td></tr><tr><td>0.95</td><td>7189</td><td>ms</td></tr><tr><td>0.9</td><td>2406</td><td>ms</td></tr><tr><td>0.75</td><td>1925</td><td>ms</td></tr><tr><td>0.5</td><td>1741</td><td>ms</td></tr><tr><td>0</td><td>1399</td><td>ms</td></tr></tbody></table>"
      ]
     },
     "execution_count": 4,
     "metadata": {},
     "output_type": "execute_result"
    }
   ],
   "source": [
    "const percentile = [1, 0.99, 0.95, 0.9, 0.75, 0.5, 0];\n",
    "const value = percentile.map(p => df[\"latency\"].quantile(p));\n",
    "const unit = percentile.map(_ => \"ms\");\n",
    "\n",
    "const percentileDf = new pl.DataFrame({ percentile, value, unit });\n",
    "\n",
    "percentileDf;"
   ]
  },
  {
   "cell_type": "code",
   "execution_count": 5,
   "id": "40c84a43-0a5f-4f7f-987e-d96b57179856",
   "metadata": {},
   "outputs": [
    {
     "data": {
      "image/svg+xml": [
       "<svg viewBox=\"0 0 640 400\" height=\"400\" width=\"640\" text-anchor=\"middle\" font-size=\"10\" font-family=\"system-ui, sans-serif\" fill=\"currentColor\" class=\"plot-d6a7b5\"><style>:where(.plot-d6a7b5) {\n",
       "  --plot-background: white;\n",
       "  display: block;\n",
       "  height: auto;\n",
       "  height: intrinsic;\n",
       "  max-width: 100%;\n",
       "}\n",
       ":where(.plot-d6a7b5 text),\n",
       ":where(.plot-d6a7b5 tspan) {\n",
       "  white-space: pre;\n",
       "}</style><g stroke-opacity=\"0.1\" stroke=\"currentColor\" aria-hidden=\"true\" aria-label=\"y-grid\"><line y2=\"370\" y1=\"370\" x2=\"620\" x1=\"40\" /><line y2=\"326.25\" y1=\"326.25\" x2=\"620\" x1=\"40\" /><line y2=\"282.5\" y1=\"282.5\" x2=\"620\" x1=\"40\" /><line y2=\"238.75\" y1=\"238.75\" x2=\"620\" x1=\"40\" /><line y2=\"195\" y1=\"195\" x2=\"620\" x1=\"40\" /><line y2=\"151.25\" y1=\"151.25\" x2=\"620\" x1=\"40\" /><line y2=\"107.5\" y1=\"107.5\" x2=\"620\" x1=\"40\" /><line y2=\"63.75\" y1=\"63.75\" x2=\"620\" x1=\"40\" /><line y2=\"20\" y1=\"20\" x2=\"620\" x1=\"40\" /></g><g stroke=\"currentColor\" fill=\"none\" aria-hidden=\"true\" aria-label=\"y-axis tick\"><path d=\"M0,0L-6,0\" transform=\"translate(40,370)\" /><path d=\"M0,0L-6,0\" transform=\"translate(40,326.25)\" /><path d=\"M0,0L-6,0\" transform=\"translate(40,282.5)\" /><path d=\"M0,0L-6,0\" transform=\"translate(40,238.75)\" /><path d=\"M0,0L-6,0\" transform=\"translate(40,195)\" /><path d=\"M0,0L-6,0\" transform=\"translate(40,151.25)\" /><path d=\"M0,0L-6,0\" transform=\"translate(40,107.5)\" /><path d=\"M0,0L-6,0\" transform=\"translate(40,63.75)\" /><path d=\"M0,0L-6,0\" transform=\"translate(40,20)\" /></g><g transform=\"translate(-9,0)\" font-variant=\"tabular-nums\" text-anchor=\"end\" aria-label=\"y-axis tick label\"><text transform=\"translate(40,370)\" y=\"0.32em\">0</text><text transform=\"translate(40,326.25)\" y=\"0.32em\">10</text><text transform=\"translate(40,282.5)\" y=\"0.32em\">20</text><text transform=\"translate(40,238.75)\" y=\"0.32em\">30</text><text transform=\"translate(40,195)\" y=\"0.32em\">40</text><text transform=\"translate(40,151.25)\" y=\"0.32em\">50</text><text transform=\"translate(40,107.5)\" y=\"0.32em\">60</text><text transform=\"translate(40,63.75)\" y=\"0.32em\">70</text><text transform=\"translate(40,20)\" y=\"0.32em\">80</text></g><g transform=\"translate(-37,-17)\" text-anchor=\"start\" aria-label=\"y-axis label\"><text transform=\"translate(40,20)\" y=\"0.71em\">↑ Frequency</text></g><g stroke=\"currentColor\" fill=\"none\" aria-hidden=\"true\" aria-label=\"x-axis tick\"><path d=\"M0,0L0,6\" transform=\"translate(40,370)\" /><path d=\"M0,0L0,6\" transform=\"translate(122.85714285714286,370)\" /><path d=\"M0,0L0,6\" transform=\"translate(205.71428571428572,370)\" /><path d=\"M0,0L0,6\" transform=\"translate(288.57142857142856,370)\" /><path d=\"M0,0L0,6\" transform=\"translate(371.42857142857144,370)\" /><path d=\"M0,0L0,6\" transform=\"translate(454.28571428571433,370)\" /><path d=\"M0,0L0,6\" transform=\"translate(537.1428571428571,370)\" /><path d=\"M0,0L0,6\" transform=\"translate(620,370)\" /></g><g transform=\"translate(0,9)\" font-variant=\"tabular-nums\" aria-label=\"x-axis tick label\"><text transform=\"translate(40,370)\" y=\"0.71em\">1,000</text><text transform=\"translate(122.85714285714286,370)\" y=\"0.71em\">2,000</text><text transform=\"translate(205.71428571428572,370)\" y=\"0.71em\">3,000</text><text transform=\"translate(288.57142857142856,370)\" y=\"0.71em\">4,000</text><text transform=\"translate(371.42857142857144,370)\" y=\"0.71em\">5,000</text><text transform=\"translate(454.28571428571433,370)\" y=\"0.71em\">6,000</text><text transform=\"translate(537.1428571428571,370)\" y=\"0.71em\">7,000</text><text transform=\"translate(620,370)\" y=\"0.71em\">8,000</text></g><g transform=\"translate(17,27)\" text-anchor=\"end\" aria-label=\"x-axis label\"><text transform=\"translate(620,370)\">latency →</text></g><g aria-label=\"rect\"><rect height=\"350\" width=\"81.85714285714286\" y=\"20\" x=\"40.5\" /><rect height=\"43.75\" width=\"81.85714285714286\" y=\"326.25\" x=\"123.35714285714286\" /><rect height=\"4.375\" width=\"81.85714285714283\" y=\"365.625\" x=\"206.21428571428572\" /><rect height=\"8.75\" width=\"81.85714285714278\" y=\"361.25\" x=\"454.78571428571433\" /><rect height=\"30.625\" width=\"81.85714285714289\" y=\"339.375\" x=\"537.6428571428571\" /></g><g stroke=\"currentColor\" aria-label=\"rule\"><line y2=\"370\" y1=\"370\" x2=\"620\" x1=\"40\" /></g></svg>"
      ]
     },
     "execution_count": 5,
     "metadata": {},
     "output_type": "execute_result"
    }
   ],
   "source": [
    "Plot.plot({\n",
    "  y: { grid: true },\n",
    "  document,\n",
    "  marks: [\n",
    "    Plot.rectY(df.toRecords(), Plot.binX({ y: \"count\" }, { x: \"latency\" })),\n",
    "    Plot.ruleY([0])\n",
    "  ]\n",
    "});"
   ]
  }
 ],
 "metadata": {
  "kernelspec": {
   "display_name": "Deno",
   "language": "typescript",
   "name": "deno"
  },
  "language_info": {
   "codemirror_mode": "typescript",
   "file_extension": ".ts",
   "mimetype": "text/x.typescript",
   "name": "typescript",
   "nbconvert_exporter": "script",
   "pygments_lexer": "typescript",
   "version": "5.6.2"
  }
 },
 "nbformat": 4,
 "nbformat_minor": 5
}
